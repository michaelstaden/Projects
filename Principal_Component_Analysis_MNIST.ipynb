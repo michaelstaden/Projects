{
 "cells": [
  {
   "cell_type": "markdown",
   "metadata": {},
   "source": [
    "# <center>+++ Project is currently in progress ;-) +++<center>"
   ]
  },
  {
   "cell_type": "markdown",
   "metadata": {},
   "source": [
    "# Principal component analysis on MNIST"
   ]
  },
  {
   "cell_type": "markdown",
   "metadata": {},
   "source": [
    "In this notebook, I apply **principal component analysis (PCA)** on the MNIST data set of handwritten digits. The goal of this project is to examine how a reduction in features impacts the accuracy of a classifier."
   ]
  },
  {
   "cell_type": "markdown",
   "metadata": {},
   "source": [
    "## 1. Set up the notebook and load the MNIST data"
   ]
  },
  {
   "cell_type": "markdown",
   "metadata": {},
   "source": [
    "In contrary to previous projects I will work with the entire MNIST dataset for this project"
   ]
  },
  {
   "cell_type": "code",
   "execution_count": 1,
   "metadata": {
    "ExecuteTime": {
     "end_time": "2020-08-10T08:59:57.732990Z",
     "start_time": "2020-08-10T08:59:52.989002Z"
    }
   },
   "outputs": [],
   "source": [
    "%matplotlib inline\n",
    "import numpy as np\n",
    "import matplotlib.pyplot as plt\n",
    "from scipy.stats import multivariate_normal"
   ]
  },
  {
   "cell_type": "code",
   "execution_count": 2,
   "metadata": {
    "ExecuteTime": {
     "end_time": "2020-08-10T09:01:02.929296Z",
     "start_time": "2020-08-10T08:59:57.736063Z"
    }
   },
   "outputs": [],
   "source": [
    "# Get data from csv files\n",
    "train_images = np.loadtxt(\"MNIST/mnist_train.csv\", delimiter=\",\")\n",
    "test_images = np.loadtxt(\"MNIST/mnist_test.csv\", delimiter=\",\")"
   ]
  },
  {
   "cell_type": "code",
   "execution_count": 3,
   "metadata": {
    "ExecuteTime": {
     "end_time": "2020-08-10T09:01:03.716227Z",
     "start_time": "2020-08-10T09:01:03.377835Z"
    }
   },
   "outputs": [
    {
     "name": "stdout",
     "output_type": "stream",
     "text": [
      "(60000, 785)\n",
      "(10000, 785)\n"
     ]
    }
   ],
   "source": [
    "print(np.shape(train_images))\n",
    "print(np.shape(test_images))"
   ]
  },
  {
   "cell_type": "code",
   "execution_count": 4,
   "metadata": {
    "ExecuteTime": {
     "end_time": "2020-08-10T09:01:03.819694Z",
     "start_time": "2020-08-10T09:01:03.746319Z"
    }
   },
   "outputs": [
    {
     "name": "stdout",
     "output_type": "stream",
     "text": [
      "Shape of training data: (60000, 784)\n",
      "Shape of training labels: (60000, 1)\n",
      "Shape of test data: (10000, 784)\n",
      "Shape of test labels: (10000, 1)\n"
     ]
    }
   ],
   "source": [
    "train_data = train_images[:,1:]\n",
    "train_labels = train_images[:,:1]\n",
    "test_data = test_images[:,1:]\n",
    "test_labels = test_images[:,:1]\n",
    "\n",
    "print('Shape of training data: {}'.format(np.shape(train_data)))\n",
    "print('Shape of training labels: {}'.format(np.shape(train_labels)))\n",
    "print('Shape of test data: {}'.format(np.shape(test_data)))\n",
    "print('Shape of test labels: {}'.format(np.shape(test_labels)))"
   ]
  },
  {
   "cell_type": "markdown",
   "metadata": {
    "ExecuteTime": {
     "end_time": "2020-08-06T16:29:28.508247Z",
     "start_time": "2020-08-06T16:29:28.355379Z"
    }
   },
   "source": [
    "# 2. Statistics\n",
    "\n",
    "In principal component analysis the first eigenvectors of the covariance matrix of the data indicate the directions of the highest variance. These directions can be interpreted as the projected features of the data that contain the most information.\n",
    "\n",
    "* *The ith **diagonal entry** of the covariance is the variance in the ith coordinate (the ith pixel).*\n",
    "* *The ith **eigenvalue** of the covariance matrix is the variance in the direction of the ith eigenvector.*"
   ]
  },
  {
   "cell_type": "code",
   "execution_count": 5,
   "metadata": {
    "ExecuteTime": {
     "end_time": "2020-08-10T09:01:06.731149Z",
     "start_time": "2020-08-10T09:01:03.840161Z"
    }
   },
   "outputs": [],
   "source": [
    "# Compute covariance matrix\n",
    "sigma = np.cov(train_data, rowvar=0, bias=1)\n",
    "# Compute coordinate-wise variances, in increasing order\n",
    "coordinate_variances = np.sort(sigma.diagonal())\n",
    "# Compute variances in eigenvector directions\n",
    "eigenvector_variances = np.sort(np.linalg.eigvalsh(sigma))"
   ]
  },
  {
   "cell_type": "code",
   "execution_count": 6,
   "metadata": {
    "ExecuteTime": {
     "end_time": "2020-08-10T09:01:06.830282Z",
     "start_time": "2020-08-10T09:01:06.748240Z"
    },
    "scrolled": false
   },
   "outputs": [
    {
     "name": "stdout",
     "output_type": "stream",
     "text": [
      "Highest variances \n",
      "\n",
      "in coordinate direction \tin eigenvector direction\n",
      "12953.0\t\t\t\t332719.0\n",
      "12934.0\t\t\t\t243280.0\n",
      "12752.0\t\t\t\t211504.0\n",
      "12736.0\t\t\t\t184773.0\n",
      "12689.0\t\t\t\t166924.0\n",
      "12682.0\t\t\t\t147842.0\n",
      "12682.0\t\t\t\t112176.0\n",
      "12680.0\t\t\t\t98873.0\n",
      "12645.0\t\t\t\t94695.0\n",
      "12629.0\t\t\t\t80808.0\n"
     ]
    }
   ],
   "source": [
    "print('Highest variances \\n\\nin coordinate direction \\tin eigenvector direction')\n",
    "[print('{}\\t\\t\\t\\t{}'.format(coord, eig)) \\\n",
    "     for coord, eig in zip(np.round(coordinate_variances[::-1][:10], 0), np.rint(eigenvector_variances[::-1][:10]))];"
   ]
  },
  {
   "cell_type": "markdown",
   "metadata": {},
   "source": [
    "The highest variances in eigenvector directions are significantly higher than the highest variances in the directions of the image pixel coordinates. This shows that the **first eigenvector directions contain more information** than any of the image pixel coordinates.\n",
    "\n",
    "Another observation is, that the variances in the eigenvector directions decrease rapidly. Let's plot this to make this even clearer."
   ]
  },
  {
   "cell_type": "code",
   "execution_count": 7,
   "metadata": {
    "ExecuteTime": {
     "end_time": "2020-08-10T09:01:08.531350Z",
     "start_time": "2020-08-10T09:01:06.837810Z"
    }
   },
   "outputs": [
    {
     "data": {
      "image/png": "[encoded data removed]",
      "text/plain": [
       "<Figure size 432x288 with 1 Axes>"
      ]
     },
     "metadata": {},
     "output_type": "display_data"
    }
   ],
   "source": [
    "# Compute fraction of overall variance loss when projecting to k coordinate directions\n",
    "cum_coordinate_variances = np.cumsum(coordinate_variances)\n",
    "fract_cum_coord_variances = cum_coordinate_variances / cum_coordinate_variances[len(cum_coordinate_variances)-1]\n",
    "# Compute fraction of overall variance loss when projecting to k eigenvector directions\n",
    "cum_eigenvector_variances = np.cumsum(eigenvector_variances)\n",
    "fract_cum_eigvec_variances = cum_eigenvector_variances / cum_eigenvector_variances[len(cum_eigenvector_variances)-1]\n",
    "# Plot results\n",
    "plt.plot(np.arange(1, 784), fract_cum_coord_variances[784:0:-1], 'b-', lw=2)\n",
    "plt.plot(np.arange(1, 784), fract_cum_eigvec_variances[784:0:-1], 'g-', lw=2)\n",
    "plt.xlabel('projection dimension k', fontsize=14)\n",
    "plt.ylabel('fraction overall variance loss', fontsize=14)\n",
    "plt.xlim(0, 784)\n",
    "plt.ylim(0.0, 1.0)\n",
    "plt.legend(['coordinate directions', 'PCA directions'], fontsize=14);"
   ]
  },
  {
   "cell_type": "markdown",
   "metadata": {},
   "source": [
    "# 3. Projection and reconstruction"
   ]
  },
  {
   "cell_type": "markdown",
   "metadata": {},
   "source": [
    "To get a clearer feeling of how the reduction in dimensionality using PCA and the loss in variance is actually reflected in the images, some examples are shown. The steps for PCA projection to *k* dimensions are:\n",
    "1. **Projection** of original handwritten digit from 784-dimensional space down to *k* dimensions\n",
    "2. **Reconstruction** of of image from projected *k* dimensions to 784-dimensional space"
   ]
  },
  {
   "cell_type": "markdown",
   "metadata": {},
   "source": [
    "The data of the image gets projected from the 784-dimensional space to the *k* directions of the eigenvectors *u_1,...,u_k* with the highest eigenvalue. These are the directions with the highest variance. The projection of an image x is calculated as follows:\n",
    "\n",
    "$$(x \\cdot u_1, x \\cdot u_2, ... x \\cdot u_k) = U^Tx$$\n",
    "\n",
    "The image is reconstructed from the projection by multiplying the projection with the eigenvectors *u_1,...,u_k*. So the projection and reconstruction combined for an image x is calculated as follows:\n",
    "\n",
    "$$(x \\cdot u_1)u_1 + (x \\cdot u_2)u_2 + ... + (x \\cdot u_k)u_k = UU^Tx$$"
   ]
  },
  {
   "cell_type": "code",
   "execution_count": 8,
   "metadata": {
    "ExecuteTime": {
     "end_time": "2020-08-10T09:01:08.844984Z",
     "start_time": "2020-08-10T09:01:08.535989Z"
    }
   },
   "outputs": [],
   "source": [
    "# Compute eigenvalues and eigenvectors from covariance matrix sigma\n",
    "eigenvalues, eigenvectors = np.linalg.eigh(sigma)"
   ]
  },
  {
   "cell_type": "code",
   "execution_count": 9,
   "metadata": {
    "ExecuteTime": {
     "end_time": "2020-08-10T09:01:08.870899Z",
     "start_time": "2020-08-10T09:01:08.848954Z"
    }
   },
   "outputs": [],
   "source": [
    "def projection_and_reconstruction(k):\n",
    "    U = eigenvectors[:,(784-k):784]\n",
    "    Proj_and_Rec = np.dot(U, U.T)\n",
    "    return Proj_and_Rec"
   ]
  },
  {
   "cell_type": "code",
   "execution_count": 10,
   "metadata": {
    "ExecuteTime": {
     "end_time": "2020-08-10T09:01:08.922919Z",
     "start_time": "2020-08-10T09:01:08.879106Z"
    }
   },
   "outputs": [],
   "source": [
    "def display_digit(x):\n",
    "    # Make sure all entries of x are in the range [0,255]\n",
    "    for i in range(784):\n",
    "        x[i] = max(0.0, x[i])\n",
    "        x[i] = min(255.0, x[i])\n",
    "    # Now displayplt.axis('off')\n",
    "    plt.imshow(x.reshape((28, 28)), cmap=plt.cm.gray)\n",
    "    plt.show()\n",
    "    return"
   ]
  },
  {
   "cell_type": "markdown",
   "metadata": {},
   "source": [
    "Let's show the effects of projection and reconstruction using PCA on the first image of the training dataset."
   ]
  },
  {
   "cell_type": "code",
   "execution_count": 11,
   "metadata": {
    "ExecuteTime": {
     "end_time": "2020-08-10T09:01:12.798950Z",
     "start_time": "2020-08-10T09:01:08.940057Z"
    }
   },
   "outputs": [
    {
     "name": "stdout",
     "output_type": "stream",
     "text": [
      "Original first image of dataset:\n"
     ]
    },
    {
     "data": {
      "image/png": "[encoded data removed]",
      "text/plain": [
       "<Figure size 432x288 with 1 Axes>"
      ]
     },
     "metadata": {},
     "output_type": "display_data"
    }
   ],
   "source": [
    "print('Original first image of dataset:')\n",
    "display_digit(train_data[0])"
   ]
  },
  {
   "cell_type": "code",
   "execution_count": 13,
   "metadata": {
    "ExecuteTime": {
     "end_time": "2020-08-10T09:01:21.441018Z",
     "start_time": "2020-08-10T09:01:20.791323Z"
    }
   },
   "outputs": [
    {
     "name": "stdout",
     "output_type": "stream",
     "text": [
      "\n",
      "Projection and Reconstruction for k = 100 dimensions:\n"
     ]
    },
    {
     "data": {
      "image/png": "[encoded data removed]",
      "text/plain": [
       "<Figure size 432x288 with 1 Axes>"
      ]
     },
     "metadata": {},
     "output_type": "display_data"
    },
    {
     "name": "stdout",
     "output_type": "stream",
     "text": [
      "\n",
      "Projection and Reconstruction for k = 20 dimensions:\n"
     ]
    },
    {
     "data": {
      "image/png": "[encoded data removed]",
      "text/plain": [
       "<Figure size 432x288 with 1 Axes>"
      ]
     },
     "metadata": {},
     "output_type": "display_data"
    },
    {
     "name": "stdout",
     "output_type": "stream",
     "text": [
      "\n",
      "Projection and Reconstruction for k = 1 dimensions:\n"
     ]
    },
    {
     "data": {
      "image/png": "[encoded data removed]",
      "text/plain": [
       "<Figure size 432x288 with 1 Axes>"
      ]
     },
     "metadata": {},
     "output_type": "display_data"
    }
   ],
   "source": [
    "k_values = np.array([100, 20, 1])\n",
    "for k in k_values:\n",
    "    print('\\nProjection and Reconstruction for k = {} dimensions:'.format(k))\n",
    "    x_proj_rec = np.dot(projection_and_reconstruction(k), train_data[0])\n",
    "    display_digit(x_proj_rec)"
   ]
  },
  {
   "cell_type": "markdown",
   "metadata": {},
   "source": [
    "The images show, that a dimensionality reduction from 784 dimensions to 100 dimensions using PCA has no significant loss in information. This is remarkable, since it means the size of the **dataset can be reduced by 87% without significant loss in information.**"
   ]
  },
  {
   "cell_type": "markdown",
   "metadata": {},
   "source": [
    "# 4. Building a k-nearest-neighbor classifier using PCA"
   ]
  },
  {
   "cell_type": "code",
   "execution_count": 45,
   "metadata": {
    "ExecuteTime": {
     "end_time": "2020-08-10T09:40:02.288365Z",
     "start_time": "2020-08-10T09:40:02.266483Z"
    }
   },
   "outputs": [
    {
     "data": {
      "text/plain": [
       "array([6, 3, 6])"
      ]
     },
     "execution_count": 45,
     "metadata": {},
     "output_type": "execute_result"
    }
   ],
   "source": [
    "distances = np.array([10, 4, 20, 3, 5])\n",
    "labels = np.array([4, 3, 7, 6, 6])\n",
    "#counts = np.bincount(np.array(list(map(lambda x: x[1], sorted(zip(distances, labels))[:3]))))\n",
    "#np.argmax(counts)\n",
    "indices = distances.argsort()[:3]\n",
    "labels[[indices]]"
   ]
  },
  {
   "cell_type": "code",
   "execution_count": 80,
   "metadata": {
    "ExecuteTime": {
     "end_time": "2020-08-10T10:30:11.752774Z",
     "start_time": "2020-08-10T10:30:11.739635Z"
    }
   },
   "outputs": [],
   "source": [
    "def calc_distance(point1, point2, p):\n",
    "    # If p = 1 calculate l1-distance\n",
    "    if p == 1:\n",
    "        dist = np.sum(abs(point1-point2))\n",
    "    elif p == 2:\n",
    "        dist = np.sum(np.square(point1-point2))\n",
    "    return dist"
   ]
  },
  {
   "cell_type": "code",
   "execution_count": 81,
   "metadata": {
    "ExecuteTime": {
     "end_time": "2020-08-10T10:30:20.368119Z",
     "start_time": "2020-08-10T10:30:20.338585Z"
    }
   },
   "outputs": [],
   "source": [
    "def find_NN(point1, data, labels, k, p):\n",
    "    distances = np.zeros(len(labels))\n",
    "    for i in range(np.shape(data)[0]):\n",
    "        point2 = data[i,:]\n",
    "        distances[i] = calc_distance(point1, point2, p)\n",
    "    indices_min_distances = distances.argsort()[:k]\n",
    "    labels_min_distances = labels[[indices_min_distances]][:,0].astype(int)\n",
    "    label_counts = np.bincount(labels_min_distances)\n",
    "    return np.argmax(label_counts)"
   ]
  },
  {
   "cell_type": "markdown",
   "metadata": {},
   "source": [
    "## 4.1 Compare distance functions (l1 vs. l2-distance)"
   ]
  },
  {
   "cell_type": "code",
   "execution_count": 124,
   "metadata": {
    "ExecuteTime": {
     "end_time": "2020-08-10T13:20:11.195119Z",
     "start_time": "2020-08-10T13:19:55.051792Z"
    }
   },
   "outputs": [
    {
     "ename": "KeyboardInterrupt",
     "evalue": "",
     "output_type": "error",
     "traceback": [
      "\u001b[0;31m---------------------------------------------------------------------------\u001b[0m",
      "\u001b[0;31mKeyboardInterrupt\u001b[0m                         Traceback (most recent call last)",
      "\u001b[0;32m<ipython-input-124-74758f7a081e>\u001b[0m in \u001b[0;36m<module>\u001b[0;34m()\u001b[0m\n\u001b[1;32m      9\u001b[0m     \u001b[0;32mfor\u001b[0m \u001b[0mi\u001b[0m \u001b[0;32min\u001b[0m \u001b[0mrange\u001b[0m\u001b[0;34m(\u001b[0m\u001b[0mlen\u001b[0m\u001b[0;34m(\u001b[0m\u001b[0mtest_labels_selection\u001b[0m\u001b[0;34m)\u001b[0m\u001b[0;34m)\u001b[0m\u001b[0;34m:\u001b[0m\u001b[0;34m\u001b[0m\u001b[0m\n\u001b[1;32m     10\u001b[0m         \u001b[0;31m#if i%100 == 0: print('Test point number: {}'.format(i))\u001b[0m\u001b[0;34m\u001b[0m\u001b[0;34m\u001b[0m\u001b[0m\n\u001b[0;32m---> 11\u001b[0;31m         \u001b[0mpredictions\u001b[0m\u001b[0;34m[\u001b[0m\u001b[0mi\u001b[0m\u001b[0;34m]\u001b[0m \u001b[0;34m=\u001b[0m  \u001b[0mfind_NN\u001b[0m\u001b[0;34m(\u001b[0m\u001b[0mtest_data_selection\u001b[0m\u001b[0;34m[\u001b[0m\u001b[0mi\u001b[0m\u001b[0;34m]\u001b[0m\u001b[0;34m,\u001b[0m \u001b[0mtrain_data\u001b[0m\u001b[0;34m,\u001b[0m \u001b[0mtrain_labels\u001b[0m\u001b[0;34m,\u001b[0m \u001b[0mk\u001b[0m\u001b[0;34m,\u001b[0m \u001b[0mp\u001b[0m\u001b[0;34m)\u001b[0m\u001b[0;34m\u001b[0m\u001b[0m\n\u001b[0m\u001b[1;32m     12\u001b[0m     \u001b[0maccuracy_rate\u001b[0m \u001b[0;34m=\u001b[0m \u001b[0mnp\u001b[0m\u001b[0;34m.\u001b[0m\u001b[0msum\u001b[0m\u001b[0;34m(\u001b[0m\u001b[0mnp\u001b[0m\u001b[0;34m.\u001b[0m\u001b[0mequal\u001b[0m\u001b[0;34m(\u001b[0m\u001b[0mpredictions\u001b[0m\u001b[0;34m,\u001b[0m \u001b[0mtest_labels_selection\u001b[0m\u001b[0;34m)\u001b[0m\u001b[0;34m)\u001b[0m \u001b[0;34m/\u001b[0m \u001b[0mlen\u001b[0m\u001b[0;34m(\u001b[0m\u001b[0mtest_labels_selection\u001b[0m\u001b[0;34m)\u001b[0m\u001b[0;34m\u001b[0m\u001b[0m\n\u001b[1;32m     13\u001b[0m     \u001b[0mdict_dist_acc\u001b[0m\u001b[0;34m[\u001b[0m\u001b[0mp\u001b[0m\u001b[0;34m]\u001b[0m \u001b[0;34m=\u001b[0m \u001b[0maccuracy_rate\u001b[0m\u001b[0;34m\u001b[0m\u001b[0m\n",
      "\u001b[0;32m<ipython-input-81-22484b0f4973>\u001b[0m in \u001b[0;36mfind_NN\u001b[0;34m(point1, data, labels, k, p)\u001b[0m\n\u001b[1;32m      3\u001b[0m     \u001b[0;32mfor\u001b[0m \u001b[0mi\u001b[0m \u001b[0;32min\u001b[0m \u001b[0mrange\u001b[0m\u001b[0;34m(\u001b[0m\u001b[0mnp\u001b[0m\u001b[0;34m.\u001b[0m\u001b[0mshape\u001b[0m\u001b[0;34m(\u001b[0m\u001b[0mdata\u001b[0m\u001b[0;34m)\u001b[0m\u001b[0;34m[\u001b[0m\u001b[0;36m0\u001b[0m\u001b[0;34m]\u001b[0m\u001b[0;34m)\u001b[0m\u001b[0;34m:\u001b[0m\u001b[0;34m\u001b[0m\u001b[0m\n\u001b[1;32m      4\u001b[0m         \u001b[0mpoint2\u001b[0m \u001b[0;34m=\u001b[0m \u001b[0mdata\u001b[0m\u001b[0;34m[\u001b[0m\u001b[0mi\u001b[0m\u001b[0;34m,\u001b[0m\u001b[0;34m:\u001b[0m\u001b[0;34m]\u001b[0m\u001b[0;34m\u001b[0m\u001b[0m\n\u001b[0;32m----> 5\u001b[0;31m         \u001b[0mdistances\u001b[0m\u001b[0;34m[\u001b[0m\u001b[0mi\u001b[0m\u001b[0;34m]\u001b[0m \u001b[0;34m=\u001b[0m \u001b[0mcalc_distance\u001b[0m\u001b[0;34m(\u001b[0m\u001b[0mpoint1\u001b[0m\u001b[0;34m,\u001b[0m \u001b[0mpoint2\u001b[0m\u001b[0;34m,\u001b[0m \u001b[0mp\u001b[0m\u001b[0;34m)\u001b[0m\u001b[0;34m\u001b[0m\u001b[0m\n\u001b[0m\u001b[1;32m      6\u001b[0m     \u001b[0mindices_min_distances\u001b[0m \u001b[0;34m=\u001b[0m \u001b[0mdistances\u001b[0m\u001b[0;34m.\u001b[0m\u001b[0margsort\u001b[0m\u001b[0;34m(\u001b[0m\u001b[0;34m)\u001b[0m\u001b[0;34m[\u001b[0m\u001b[0;34m:\u001b[0m\u001b[0mk\u001b[0m\u001b[0;34m]\u001b[0m\u001b[0;34m\u001b[0m\u001b[0m\n\u001b[1;32m      7\u001b[0m     \u001b[0mlabels_min_distances\u001b[0m \u001b[0;34m=\u001b[0m \u001b[0mlabels\u001b[0m\u001b[0;34m[\u001b[0m\u001b[0;34m[\u001b[0m\u001b[0mindices_min_distances\u001b[0m\u001b[0;34m]\u001b[0m\u001b[0;34m]\u001b[0m\u001b[0;34m[\u001b[0m\u001b[0;34m:\u001b[0m\u001b[0;34m,\u001b[0m\u001b[0;36m0\u001b[0m\u001b[0;34m]\u001b[0m\u001b[0;34m.\u001b[0m\u001b[0mastype\u001b[0m\u001b[0;34m(\u001b[0m\u001b[0mint\u001b[0m\u001b[0;34m)\u001b[0m\u001b[0;34m\u001b[0m\u001b[0m\n",
      "\u001b[0;32m<ipython-input-80-44cde0d6a987>\u001b[0m in \u001b[0;36mcalc_distance\u001b[0;34m(point1, point2, p)\u001b[0m\n\u001b[1;32m      2\u001b[0m     \u001b[0;31m# If p = 1 calculate l1-distance\u001b[0m\u001b[0;34m\u001b[0m\u001b[0;34m\u001b[0m\u001b[0m\n\u001b[1;32m      3\u001b[0m     \u001b[0;32mif\u001b[0m \u001b[0mp\u001b[0m \u001b[0;34m==\u001b[0m \u001b[0;36m1\u001b[0m\u001b[0;34m:\u001b[0m\u001b[0;34m\u001b[0m\u001b[0m\n\u001b[0;32m----> 4\u001b[0;31m         \u001b[0mdist\u001b[0m \u001b[0;34m=\u001b[0m \u001b[0mnp\u001b[0m\u001b[0;34m.\u001b[0m\u001b[0msum\u001b[0m\u001b[0;34m(\u001b[0m\u001b[0mabs\u001b[0m\u001b[0;34m(\u001b[0m\u001b[0mpoint1\u001b[0m\u001b[0;34m-\u001b[0m\u001b[0mpoint2\u001b[0m\u001b[0;34m)\u001b[0m\u001b[0;34m)\u001b[0m\u001b[0;34m\u001b[0m\u001b[0m\n\u001b[0m\u001b[1;32m      5\u001b[0m     \u001b[0;32melif\u001b[0m \u001b[0mp\u001b[0m \u001b[0;34m==\u001b[0m \u001b[0;36m2\u001b[0m\u001b[0;34m:\u001b[0m\u001b[0;34m\u001b[0m\u001b[0m\n\u001b[1;32m      6\u001b[0m         \u001b[0mdist\u001b[0m \u001b[0;34m=\u001b[0m \u001b[0mnp\u001b[0m\u001b[0;34m.\u001b[0m\u001b[0msum\u001b[0m\u001b[0;34m(\u001b[0m\u001b[0mnp\u001b[0m\u001b[0;34m.\u001b[0m\u001b[0msquare\u001b[0m\u001b[0;34m(\u001b[0m\u001b[0mpoint1\u001b[0m\u001b[0;34m-\u001b[0m\u001b[0mpoint2\u001b[0m\u001b[0;34m)\u001b[0m\u001b[0;34m)\u001b[0m\u001b[0;34m\u001b[0m\u001b[0m\n",
      "\u001b[0;31mKeyboardInterrupt\u001b[0m: "
     ]
    }
   ],
   "source": [
    "k = 1\n",
    "dict_dist_acc = {}\n",
    "# Choose 1000 points of test set randomly to evaluate which distance function yield better results\n",
    "indices_selection = np.random.choice(len(test_labels), 1000, replace=False)\n",
    "test_data_selection = test_data[[indices_selection]]\n",
    "test_labels_selection = test_labels[[indices_selection]][:,0]\n",
    "for p in range(1,3):\n",
    "    predictions = np.zeros(len(test_labels_selection))\n",
    "    for i in range(len(test_labels_selection)):\n",
    "        #if i%100 == 0: print('Test point number: {}'.format(i))\n",
    "        predictions[i] =  find_NN(test_data_selection[i], train_data, train_labels, k, p)\n",
    "    accuracy_rate = np.sum(np.equal(predictions, test_labels_selection)) / len(test_labels_selection)\n",
    "    dict_dist_acc[p] = accuracy_rate\n",
    "#predictions = np.array([find_NN(test_data[i], train_data, train_labels, k, p) for i in range(len(test_labels))])\n",
    "print('\\ndistance function l1/l2 \\taccuracy rate')\n",
    "[print('{} \\t\\t\\t\\t{}'.format(i, dict_dist_acc.get(i))) for i in range(1,3)];"
   ]
  },
  {
   "cell_type": "markdown",
   "metadata": {
    "ExecuteTime": {
     "end_time": "2020-08-10T13:10:13.498544Z",
     "start_time": "2020-08-10T13:10:13.482834Z"
    }
   },
   "source": [
    "## 4.2 Determine number of neighbors k"
   ]
  },
  {
   "cell_type": "code",
   "execution_count": 129,
   "metadata": {
    "ExecuteTime": {
     "end_time": "2020-08-10T13:47:43.646380Z",
     "start_time": "2020-08-10T13:38:36.257221Z"
    }
   },
   "outputs": [
    {
     "name": "stdout",
     "output_type": "stream",
     "text": [
      "\n",
      "k-value \taccuracy rate\n",
      "1 \t\t0.97\n",
      "2 \t\t0.95\n",
      "3 \t\t0.95\n",
      "4 \t\t0.94\n",
      "5 \t\t0.93\n"
     ]
    }
   ],
   "source": [
    "k_values = [1, 2, 3, 4, 5]\n",
    "# Use the euclidean distance (p=2) as distance function\n",
    "p = 2\n",
    "dict_k_acc = {}\n",
    "# Choose 1000 points of test set randomly to evaluate which distance function yield better results\n",
    "indices_selection = np.random.choice(len(test_labels), 100, replace=False)\n",
    "test_data_selection = test_data[[indices_selection]]\n",
    "test_labels_selection = test_labels[[indices_selection]][:,0]\n",
    "for k in k_values:\n",
    "    predictions = np.zeros(len(test_labels_selection))\n",
    "    for i in range(len(test_labels_selection)):\n",
    "        #if i%100 == 0: print('Test point number: {}'.format(i))\n",
    "        predictions[i] =  find_NN(test_data_selection[i], train_data, train_labels, k, p)\n",
    "    accuracy_rate = np.sum(np.equal(predictions, test_labels_selection)) / len(test_labels_selection)\n",
    "    dict_k_acc[k] = accuracy_rate\n",
    "#predictions = np.array([find_NN(test_data[i], train_data, train_labels, k, p) for i in range(len(test_labels))])\n",
    "print('\\nk-value \\taccuracy rate')\n",
    "[print('{} \\t\\t{}'.format(k, dict_k_acc.get(k))) for k in k_values];"
   ]
  },
  {
   "cell_type": "code",
   "execution_count": 140,
   "metadata": {
    "ExecuteTime": {
     "end_time": "2020-08-10T13:58:04.224373Z",
     "start_time": "2020-08-10T13:58:03.863079Z"
    }
   },
   "outputs": [
    {
     "data": {
      "text/plain": [
       "Text(0,0.5,'Accuracy rate')"
      ]
     },
     "execution_count": 140,
     "metadata": {},
     "output_type": "execute_result"
    },
    {
     "data": {
      "image/png": "[encoded data removed]",
      "text/plain": [
       "<Figure size 432x288 with 1 Axes>"
      ]
     },
     "metadata": {},
     "output_type": "display_data"
    }
   ],
   "source": [
    "plt.plot(k_values, list(dict_k_acc.values()))\n",
    "plt.xticks(np.arange(min(k_values), max(k_values)+1, 1.0))\n",
    "plt.title('Accuracy rate over number of neighbors k', fontsize=16)\n",
    "plt.xlabel('Number of neighbors k', fontsize=14)\n",
    "plt.ylabel('Accuracy rate', fontsize=14)"
   ]
  },
  {
   "cell_type": "markdown",
   "metadata": {},
   "source": [
    "## 4.3 Projecting data using PCA and predicting labels of test images"
   ]
  },
  {
   "cell_type": "code",
   "execution_count": 146,
   "metadata": {
    "ExecuteTime": {
     "end_time": "2020-08-10T14:24:05.853633Z",
     "start_time": "2020-08-10T14:24:05.115832Z"
    }
   },
   "outputs": [],
   "source": [
    "# Use first 100 Eigenvectors for projection\n",
    "U = eigenvectors[:,(784-100):784]\n",
    "train_data_projected = np.dot(train_data, U)\n",
    "test_data_projected = np.dot(test_data, U)"
   ]
  },
  {
   "cell_type": "code",
   "execution_count": 149,
   "metadata": {
    "ExecuteTime": {
     "end_time": "2020-08-10T17:22:46.909350Z",
     "start_time": "2020-08-10T14:30:03.621411Z"
    }
   },
   "outputs": [
    {
     "name": "stdout",
     "output_type": "stream",
     "text": [
      "Parameters: \n",
      "k=1 \n",
      "p=2 (euclidean distance) \n",
      "Accuracy rate on entire test set using PCA: 0.9716\n"
     ]
    }
   ],
   "source": [
    "predictions = [find_NN(test_data_projected[i], train_data_projected, train_labels, k=1, p=2) for i in range(len(test_data_projected))]\n",
    "accuracy_rate = np.sum(np.equal(predictions, test_labels[:,0])) / len(test_labels)\n",
    "print('Parameters: \\nk=1 \\np=2 (euclidean distance) \\nAccuracy rate on entire test set using PCA: {}'.format(accuracy_rate))"
   ]
  },
  {
   "cell_type": "markdown",
   "metadata": {
    "ExecuteTime": {
     "end_time": "2020-08-10T14:27:10.880711Z",
     "start_time": "2020-08-10T14:27:10.850934Z"
    }
   },
   "source": [
    "# 5. Conclusion"
   ]
  },
  {
   "cell_type": "markdown",
   "metadata": {},
   "source": [
    "Using **Principal Component Analysis** the dimension of the dataset could be reduced by **87%** from 784 pixel dimensions down to 100 eigenvector directions. \n",
    "\n",
    "The k-nearest-neighbor classifier was optimized to the MNIST handwritten digit recognition problem by comparing the l1- and l2-distance function. The **l2-distance function (euclidean distance) yielded better results** and was chosen for the final classification.\n",
    "\n",
    "Multiple values for the number of neighbors *k* were analyzed. The final *k* chosen for the test data was *k = 1*.\n",
    "\n",
    "The final classifier achieved an **accuracy rate of 97.16% on the test data.** This is higher than the accuracy which was achieved in another project using a k-nearest-neighbor classifier without PCA (accuracy rate: 95.4%). An explanation for the lower accuracy might be the use of a reduced dataset in that other project. A further project, in which I applied a gaussian generative model on the MNIST also achieved lower accuracy (94.9%).\n",
    "\n",
    "All in all this shows that *Principal Component Analysis* is a powerful way to reduce the dimensions without loss in model accuracy."
   ]
  }
 ],
 "metadata": {
  "kernelspec": {
   "display_name": "Python 3",
   "language": "python",
   "name": "python3"
  },
  "language_info": {
   "codemirror_mode": {
    "name": "ipython",
    "version": 3
   },
   "file_extension": ".py",
   "mimetype": "text/x-python",
   "name": "python",
   "nbconvert_exporter": "python",
   "pygments_lexer": "ipython3",
   "version": "3.6.5"
  },
  "toc": {
   "base_numbering": 1,
   "nav_menu": {
    "height": "12px",
    "width": "252px"
   },
   "number_sections": false,
   "sideBar": false,
   "skip_h1_title": false,
   "title_cell": "Table of Contents",
   "title_sidebar": "Contents",
   "toc_cell": false,
   "toc_position": {
    "height": "344px",
    "left": "1px",
    "right": "20px",
    "top": "106px",
    "width": "212px"
   },
   "toc_section_display": "block",
   "toc_window_display": false
  },
  "varInspector": {
   "cols": {
    "lenName": 16,
    "lenType": 16,
    "lenVar": 40
   },
   "kernels_config": {
    "python": {
     "delete_cmd_postfix": "",
     "delete_cmd_prefix": "del ",
     "library": "var_list.py",
     "varRefreshCmd": "print(var_dic_list())"
    },
    "r": {
     "delete_cmd_postfix": ") ",
     "delete_cmd_prefix": "rm(",
     "library": "var_list.r",
     "varRefreshCmd": "cat(var_dic_list()) "
    }
   },
   "types_to_exclude": [
    "module",
    "function",
    "builtin_function_or_method",
    "instance",
    "_Feature"
   ],
   "window_display": false
  }
 },
 "nbformat": 4,
 "nbformat_minor": 1
}
