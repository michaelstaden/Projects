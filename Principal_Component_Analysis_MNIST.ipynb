{
 "cells": [
  {
   "cell_type": "markdown",
   "metadata": {},
   "source": [
    "# <center>+++ Project is currently in progress ;-) +++<center>"
   ]
  },
  {
   "cell_type": "markdown",
   "metadata": {},
   "source": [
    "# Principal component analysis on MNIST"
   ]
  },
  {
   "cell_type": "markdown",
   "metadata": {},
   "source": [
    "In this notebook, I apply **principal component analysis (PCA)** on the MNIST data set of handwritten digits."
   ]
  },
  {
   "cell_type": "markdown",
   "metadata": {},
   "source": [
    "## 1. Set up the notebook and load the MNIST data"
   ]
  },
  {
   "cell_type": "markdown",
   "metadata": {},
   "source": [
    "In contrary to previous projects I will work with the entire MNIST dataset for this project"
   ]
  },
  {
   "cell_type": "code",
   "execution_count": 1,
   "metadata": {
    "ExecuteTime": {
     "end_time": "2020-08-06T16:18:52.446734Z",
     "start_time": "2020-08-06T16:18:34.099048Z"
    }
   },
   "outputs": [],
   "source": [
    "%matplotlib inline\n",
    "import numpy as np\n",
    "import matplotlib.pyplot as plt\n",
    "from scipy.stats import multivariate_normal"
   ]
  },
  {
   "cell_type": "code",
   "execution_count": 4,
   "metadata": {
    "ExecuteTime": {
     "end_time": "2020-08-06T16:25:53.903384Z",
     "start_time": "2020-08-06T16:24:33.037926Z"
    }
   },
   "outputs": [],
   "source": [
    "# Get data from csv files\n",
    "train_images = np.loadtxt(\"MNIST/mnist_train.csv\", delimiter=\",\")\n",
    "test_images = np.loadtxt(\"MNIST/mnist_test.csv\", delimiter=\",\")"
   ]
  },
  {
   "cell_type": "code",
   "execution_count": 5,
   "metadata": {
    "ExecuteTime": {
     "end_time": "2020-08-06T16:26:01.248888Z",
     "start_time": "2020-08-06T16:26:01.228044Z"
    }
   },
   "outputs": [
    {
     "name": "stdout",
     "output_type": "stream",
     "text": [
      "(60000, 785)\n",
      "(10000, 785)\n"
     ]
    }
   ],
   "source": [
    "print(np.shape(train_images))\n",
    "print(np.shape(test_images))"
   ]
  },
  {
   "cell_type": "code",
   "execution_count": 8,
   "metadata": {
    "ExecuteTime": {
     "end_time": "2020-08-06T16:27:19.278994Z",
     "start_time": "2020-08-06T16:27:19.247444Z"
    }
   },
   "outputs": [
    {
     "name": "stdout",
     "output_type": "stream",
     "text": [
      "Shape of training data: (60000, 784)\n",
      "Shape of training labels: (60000, 1)\n",
      "Shape of test data: (10000, 784)\n",
      "Shape of test labels: (10000, 1)\n"
     ]
    }
   ],
   "source": [
    "train_data = train_images[:,1:]\n",
    "train_labels = train_images[:,:1]\n",
    "test_data = test_images[:,1:]\n",
    "test_labels = test_images[:,:1]\n",
    "\n",
    "print('Shape of training data: {}'.format(np.shape(train_data)))\n",
    "print('Shape of training labels: {}'.format(np.shape(train_labels)))\n",
    "print('Shape of test data: {}'.format(np.shape(test_data)))\n",
    "print('Shape of test labels: {}'.format(np.shape(test_labels)))"
   ]
  },
  {
   "cell_type": "markdown",
   "metadata": {
    "ExecuteTime": {
     "end_time": "2020-08-06T16:29:28.508247Z",
     "start_time": "2020-08-06T16:29:28.355379Z"
    }
   },
   "source": [
    "# 2. Statistics\n",
    "\n",
    "In principal component analysis the first eigenvectors of the covariance matrix of the data indicate the directions of the highest variance. These directions can be interpreted as the projected features of the data that contain the most information.\n",
    "\n",
    "* *The ith **diagonal entry** of the covariance is the variance in the ith coordinate (the ith pixel).*\n",
    "* *The ith **eigenvalue** of the covariance matrix is the variance in the direction of the ith eigenvector.*"
   ]
  },
  {
   "cell_type": "code",
   "execution_count": 10,
   "metadata": {
    "ExecuteTime": {
     "end_time": "2020-08-06T16:53:41.076388Z",
     "start_time": "2020-08-06T16:53:39.121709Z"
    }
   },
   "outputs": [],
   "source": [
    "# Compute covariance matrix\n",
    "sigma = np.cov(train_data, rowvar=0, bias=1)\n",
    "# Compute coordinate-wise variances, in increasing order\n",
    "coordinate_variances = np.sort(sigma.diagonal())\n",
    "# Compute variances in eigenvector directions\n",
    "eigenvector_variances = np.sort(np.linalg.eigvalsh(sigma))"
   ]
  },
  {
   "cell_type": "code",
   "execution_count": 36,
   "metadata": {
    "ExecuteTime": {
     "end_time": "2020-08-06T17:09:40.037348Z",
     "start_time": "2020-08-06T17:09:40.021447Z"
    },
    "scrolled": false
   },
   "outputs": [
    {
     "name": "stdout",
     "output_type": "stream",
     "text": [
      "Highest variances \n",
      "\n",
      "in coordinate direction \tin eigenvector direction\n",
      "12953.0\t\t\t\t332719.0\n",
      "12934.0\t\t\t\t243280.0\n",
      "12752.0\t\t\t\t211504.0\n",
      "12736.0\t\t\t\t184773.0\n",
      "12689.0\t\t\t\t166924.0\n",
      "12682.0\t\t\t\t147842.0\n",
      "12682.0\t\t\t\t112176.0\n",
      "12680.0\t\t\t\t98873.0\n",
      "12645.0\t\t\t\t94695.0\n",
      "12629.0\t\t\t\t80808.0\n"
     ]
    }
   ],
   "source": [
    "print('Highest variances \\n\\nin coordinate direction \\tin eigenvector direction')\n",
    "[print('{}\\t\\t\\t\\t{}'.format(coord, eig)) \\\n",
    "     for coord, eig in zip(np.round(coordinate_variances[::-1][:10], 0), np.rint(eigenvector_variances[::-1][:10]))];"
   ]
  },
  {
   "cell_type": "markdown",
   "metadata": {},
   "source": [
    "The highest variances in eigenvector directions are significantly higher than the highest variances in the directions of the image pixel coordinates. This shows that the **first eigenvector directions contain more information** than any of the image pixel coordinates."
   ]
  },
  {
   "cell_type": "code",
   "execution_count": null,
   "metadata": {},
   "outputs": [],
   "source": []
  }
 ],
 "metadata": {
  "kernelspec": {
   "display_name": "Python 3",
   "language": "python",
   "name": "python3"
  },
  "language_info": {
   "codemirror_mode": {
    "name": "ipython",
    "version": 3
   },
   "file_extension": ".py",
   "mimetype": "text/x-python",
   "name": "python",
   "nbconvert_exporter": "python",
   "pygments_lexer": "ipython3",
   "version": "3.6.5"
  },
  "toc": {
   "base_numbering": 1,
   "nav_menu": {
    "height": "12px",
    "width": "252px"
   },
   "number_sections": false,
   "sideBar": false,
   "skip_h1_title": false,
   "title_cell": "Table of Contents",
   "title_sidebar": "Contents",
   "toc_cell": false,
   "toc_position": {
    "height": "344px",
    "left": "1px",
    "right": "20px",
    "top": "106px",
    "width": "212px"
   },
   "toc_section_display": "block",
   "toc_window_display": false
  },
  "varInspector": {
   "cols": {
    "lenName": 16,
    "lenType": 16,
    "lenVar": 40
   },
   "kernels_config": {
    "python": {
     "delete_cmd_postfix": "",
     "delete_cmd_prefix": "del ",
     "library": "var_list.py",
     "varRefreshCmd": "print(var_dic_list())"
    },
    "r": {
     "delete_cmd_postfix": ") ",
     "delete_cmd_prefix": "rm(",
     "library": "var_list.r",
     "varRefreshCmd": "cat(var_dic_list()) "
    }
   },
   "types_to_exclude": [
    "module",
    "function",
    "builtin_function_or_method",
    "instance",
    "_Feature"
   ],
   "window_display": false
  }
 },
 "nbformat": 4,
 "nbformat_minor": 1
}
