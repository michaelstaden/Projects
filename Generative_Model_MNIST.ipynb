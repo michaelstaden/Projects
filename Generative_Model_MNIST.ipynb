{
 "cells": [
  {
   "cell_type": "markdown",
   "metadata": {
    "ExecuteTime": {
     "end_time": "2020-08-03T14:31:09.239217Z",
     "start_time": "2020-08-03T14:31:09.229656Z"
    }
   },
   "source": [
    "# <center>+++ Project is currently in progress ;-) +++<center>"
   ]
  },
  {
   "cell_type": "markdown",
   "metadata": {},
   "source": [
    "# Generative Model classification for handwritten digits\n",
    "\n",
    "In this notebook I will build a **generative model classifier** to classify the handwritten digits from the MNIST dataset. The results will be compared with the k-Nearest-Neighbor classifier for the MNIST dataset from my other project. "
   ]
  },
  {
   "cell_type": "markdown",
   "metadata": {},
   "source": [
    "# 1. Set up the notebook and load the data"
   ]
  },
  {
   "cell_type": "markdown",
   "metadata": {},
   "source": [
    "Just like I did with the k-Nearest-Neighbour classifier for the MNIST dataset, I'll be working with a subset of the data. The complete dataset consists of 60,000 and 10,000 training and test images respectively. The subset contains 7,500 training images and 1,000 test images."
   ]
  },
  {
   "cell_type": "code",
   "execution_count": 43,
   "metadata": {
    "ExecuteTime": {
     "end_time": "2020-08-05T13:32:41.956753Z",
     "start_time": "2020-08-05T13:32:41.912599Z"
    }
   },
   "outputs": [],
   "source": [
    "%matplotlib inline\n",
    "import matplotlib.pyplot as plt\n",
    "import numpy as np\n",
    "import pandas as pd\n",
    "from scipy.stats import multivariate_normal\n",
    "from sklearn.model_selection import train_test_split\n",
    "from sklearn import metrics"
   ]
  },
  {
   "cell_type": "code",
   "execution_count": 39,
   "metadata": {
    "ExecuteTime": {
     "end_time": "2020-08-05T13:32:22.528961Z",
     "start_time": "2020-08-05T13:32:22.474012Z"
    }
   },
   "outputs": [],
   "source": [
    "# Load the training set\n",
    "train_data = np.load('MNIST/train_data.npy')\n",
    "train_labels = np.load('MNIST/train_labels.npy')\n",
    "\n",
    "# Load the testing set\n",
    "test_data = np.load('MNIST/test_data.npy')\n",
    "test_labels = np.load('MNIST/test_labels.npy')"
   ]
  },
  {
   "cell_type": "code",
   "execution_count": 40,
   "metadata": {
    "ExecuteTime": {
     "end_time": "2020-08-05T13:32:24.962028Z",
     "start_time": "2020-08-05T13:32:24.938342Z"
    }
   },
   "outputs": [
    {
     "name": "stdout",
     "output_type": "stream",
     "text": [
      "Training data set dimensions: (7500, 784)\n",
      "Number of training data labels: 7500\n",
      "Test data set dimensions: (1000, 784)\n",
      "Number of test data labels: 1000\n"
     ]
    }
   ],
   "source": [
    "# Print out the dimensions of the datasets\n",
    "print('Training data set dimensions: {}'.format(np.shape(train_data)))\n",
    "print('Number of training data labels: {}'.format(len(train_labels)))\n",
    "print('Test data set dimensions: {}'.format(np.shape(test_data)))\n",
    "print('Number of test data labels: {}'.format(len(test_labels)))"
   ]
  },
  {
   "cell_type": "markdown",
   "metadata": {},
   "source": [
    "Let's see whether within the training and test images each number is equally represented."
   ]
  },
  {
   "cell_type": "code",
   "execution_count": 41,
   "metadata": {
    "ExecuteTime": {
     "end_time": "2020-08-05T13:32:27.801494Z",
     "start_time": "2020-08-05T13:32:27.754110Z"
    }
   },
   "outputs": [
    {
     "name": "stdout",
     "output_type": "stream",
     "text": [
      "train digit \tcounts\n",
      "0 \t\t750\n",
      "1 \t\t750\n",
      "2 \t\t750\n",
      "3 \t\t750\n",
      "4 \t\t750\n",
      "5 \t\t750\n",
      "6 \t\t750\n",
      "7 \t\t750\n",
      "8 \t\t750\n",
      "9 \t\t750\n",
      "\n",
      "test digit \tcounts\n",
      "0 \t\t100\n",
      "1 \t\t100\n",
      "2 \t\t100\n",
      "3 \t\t100\n",
      "4 \t\t100\n",
      "5 \t\t100\n",
      "6 \t\t100\n",
      "7 \t\t100\n",
      "8 \t\t100\n",
      "9 \t\t100\n"
     ]
    }
   ],
   "source": [
    "train_digits, train_counts = np.unique(train_labels, return_counts=True)\n",
    "dict_train_distribution = dict(zip(train_digits, train_counts))\n",
    "print('train digit \\tcounts')\n",
    "[print('{} \\t\\t{}'.format(i, dict_train_distribution.get(i))) for i in list(train_digits)]\n",
    "\n",
    "test_digits, test_counts = np.unique(test_labels, return_counts=True)\n",
    "dict_test_distribution = dict(zip(test_digits, test_counts))\n",
    "print('\\ntest digit \\tcounts')\n",
    "[print('{} \\t\\t{}'.format(i, dict_test_distribution.get(i))) for i in list(test_digits)];"
   ]
  },
  {
   "cell_type": "markdown",
   "metadata": {},
   "source": [
    "# 2. Visualizing the data\n",
    "\n",
    "Each data point is stored as a 784-dimensional vector. To visualize a data point, let's first reshape it to a 28x28 image."
   ]
  },
  {
   "cell_type": "code",
   "execution_count": 49,
   "metadata": {
    "ExecuteTime": {
     "end_time": "2020-08-05T13:36:13.892884Z",
     "start_time": "2020-08-05T13:36:13.820790Z"
    }
   },
   "outputs": [],
   "source": [
    "## Define a function that displays a digit given its vector representation\n",
    "def show_digit(x):\n",
    "    #plt.axis('off')\n",
    "    plt.imshow(x.reshape((28,28)), cmap=plt.cm.gray)\n",
    "    plt.show()\n",
    "    return\n",
    "\n",
    "## Define a function that takes an index into a particular data set (\"train\" or \"test\") and displays that image.\n",
    "def vis_image(index, dataset=\"train\", prediction=None):\n",
    "#def vis_image(index, dataset=\"train\"):    \n",
    "    if(dataset==\"train\"): \n",
    "        show_digit(train_data[index,])\n",
    "        label = train_labels[index]\n",
    "    else:\n",
    "        show_digit(test_data[index,])\n",
    "        label = test_labels[index]\n",
    "    print(\"Label \" + str(label))\n",
    "    if prediction!=None: print('Predicted Label ' + str(prediction))\n",
    "    return\n",
    "\n",
    "## View the first data point in the training set\n",
    "#vis_image(0, \"train\")\n",
    "\n",
    "## Now view the first data point in the test set\n",
    "#vis_image(0, \"test\")"
   ]
  },
  {
   "cell_type": "markdown",
   "metadata": {},
   "source": [
    "# 3. Fit a Gaussian generative model to the training data\n",
    "\n",
    "* pi[j] 10x1\n",
    "* mu[j] 10x784\n",
    "* sigma[j] 10x784x784\n",
    "\n",
    "In order to calculate the density distributions the inverse of the covariance matrix is needed. As many of the covariance matrices are singular or close to singular it's important to regularize these matrices. This is done by adding a regularization term cI where c is a constant and I is the identity matrix. "
   ]
  },
  {
   "cell_type": "code",
   "execution_count": 6,
   "metadata": {
    "ExecuteTime": {
     "end_time": "2020-08-05T10:17:11.222131Z",
     "start_time": "2020-08-05T10:17:11.181558Z"
    }
   },
   "outputs": [],
   "source": [
    "def fit_generative_model(x, y, c):\n",
    "    k = 10\n",
    "    d = (x.shape)[1]\n",
    "    pi = np.zeros(k)\n",
    "    mu = np.zeros((k, d))\n",
    "    sigma = np.zeros((k,d,d))\n",
    "    \n",
    "    for label in range(k):\n",
    "        indices = (y == label)\n",
    "        pi[label] = float(sum(indices)/len(y))\n",
    "        mu[label] = np.mean(x[indices], axis=0)\n",
    "        sigma[label] = np.cov(x[indices,:], rowvar=0, bias=1) + np.identity(d)*c\n",
    "    return pi, mu, sigma"
   ]
  },
  {
   "cell_type": "code",
   "execution_count": 10,
   "metadata": {
    "ExecuteTime": {
     "end_time": "2020-08-05T10:36:02.342313Z",
     "start_time": "2020-08-05T10:36:02.308965Z"
    }
   },
   "outputs": [],
   "source": [
    "# Compute log Pr(label|image) for each [test image, label] pair\n",
    "def predict(testx, testy, pi_test, mu_test, sigma_test, c):\n",
    "    k = 10\n",
    "    score = np.zeros((len(testy), k))\n",
    "    for testpoint in range(len(testy)):\n",
    "        #print('# Testpoint: {}'.format(testpoint))\n",
    "        for label in range(k):\n",
    "            score[testpoint, label] = np.log(pi_test[label]) + \\\n",
    "                multivariate_normal.logpdf(testx[testpoint], mean=mu_test[label,:], cov=sigma_test[label,:,:])\n",
    "    predictions = np.argmax(score, axis=1)\n",
    "    accuracy_rate = np.sum(predictions == testy)/len(testy)\n",
    "    #print('Accuracy rate: {}'.format(accuracy_rate))\n",
    "    return accuracy_rate, predictions"
   ]
  },
  {
   "cell_type": "markdown",
   "metadata": {},
   "source": [
    "## 3.1 k-fold cross validation to determine constant c:\n",
    "\n",
    "To find the constant c that yields the best results, cross validation is applied on the training data for different values for c. In this case k was chosen to k=3. As the running time for the cross validation is very long, it was conducted in a separate file. The following pseudo code shows the routine: \n",
    "\n",
    "*for c in c_values:\n",
    "    <br> $\\;\\;\\;\\;\\;\\;$ for i in range(k):\n",
    "    <br> $\\;\\;\\;\\;\\;\\;\\;\\;\\;\\;\\;\\;$ training_set = ith chunk of training data of size k\n",
    "    <br> $\\;\\;\\;\\;\\;\\;\\;\\;\\;\\;\\;\\;$ validation_set = {training data - training_set}\n",
    "    <br> $\\;\\;\\;\\;\\;\\;\\;\\;\\;\\;\\;\\;$ fit generative model to training_set\n",
    "    <br> $\\;\\;\\;\\;\\;\\;\\;\\;\\;\\;\\;\\;$ calculate accuracy of model using validation_set\n",
    "    <br> $\\;\\;\\;\\;\\;\\;$ calculate mean accuracy from the k runs for current value c*\n",
    "        \n",
    "The following accuracies were obtained from the cross-validation for certain values of c:"
   ]
  },
  {
   "cell_type": "code",
   "execution_count": 11,
   "metadata": {
    "ExecuteTime": {
     "end_time": "2020-08-05T10:36:04.092109Z",
     "start_time": "2020-08-05T10:36:04.033950Z"
    },
    "hide_input": true
   },
   "outputs": [
    {
     "data": {
      "text/html": [
       "<div>\n",
       "<style scoped>\n",
       "    .dataframe tbody tr th:only-of-type {\n",
       "        vertical-align: middle;\n",
       "    }\n",
       "\n",
       "    .dataframe tbody tr th {\n",
       "        vertical-align: top;\n",
       "    }\n",
       "\n",
       "    .dataframe thead th {\n",
       "        text-align: right;\n",
       "    }\n",
       "</style>\n",
       "<table border=\"1\" class=\"dataframe\">\n",
       "  <thead>\n",
       "    <tr style=\"text-align: right;\">\n",
       "      <th></th>\n",
       "      <th>accuracy for run 1</th>\n",
       "      <th>accuracy for run 2</th>\n",
       "      <th>accuracy for run 3</th>\n",
       "      <th>mean</th>\n",
       "    </tr>\n",
       "    <tr>\n",
       "      <th>c value</th>\n",
       "      <th></th>\n",
       "      <th></th>\n",
       "      <th></th>\n",
       "      <th></th>\n",
       "    </tr>\n",
       "  </thead>\n",
       "  <tbody>\n",
       "    <tr>\n",
       "      <th>1000</th>\n",
       "      <td>0.952</td>\n",
       "      <td>0.943</td>\n",
       "      <td>0.941</td>\n",
       "      <td>0.945333</td>\n",
       "    </tr>\n",
       "    <tr>\n",
       "      <th>10000</th>\n",
       "      <td>0.951</td>\n",
       "      <td>0.941</td>\n",
       "      <td>0.942</td>\n",
       "      <td>0.944667</td>\n",
       "    </tr>\n",
       "    <tr>\n",
       "      <th>100000</th>\n",
       "      <td>0.839</td>\n",
       "      <td>0.843</td>\n",
       "      <td>0.842</td>\n",
       "      <td>0.841333</td>\n",
       "    </tr>\n",
       "  </tbody>\n",
       "</table>\n",
       "</div>"
      ],
      "text/plain": [
       "         accuracy for run 1  accuracy for run 2  accuracy for run 3      mean\n",
       "c value                                                                      \n",
       "1000                  0.952               0.943               0.941  0.945333\n",
       "10000                 0.951               0.941               0.942  0.944667\n",
       "100000                0.839               0.843               0.842  0.841333"
      ]
     },
     "execution_count": 11,
     "metadata": {},
     "output_type": "execute_result"
    }
   ],
   "source": [
    "column_names = ['c value', 'accuracy for run 1', 'accuracy for run 2', 'accuracy for run 3']\n",
    "df = pd.DataFrame(columns = column_names)\n",
    "data = pd.DataFrame({'c value': [1000, 10000, 100000], \n",
    "                     'accuracy for run 1': [0.952, 0.951, 0.839], \n",
    "                     'accuracy for run 2': [0.943, 0.941, 0.843], \n",
    "                     'accuracy for run 3': [0.941, 0.942, 0.842]})\n",
    "df = df.append(data)\n",
    "df.set_index('c value', inplace=True)\n",
    "df['mean'] = df.mean(axis=1)\n",
    "df.head()"
   ]
  },
  {
   "cell_type": "markdown",
   "metadata": {},
   "source": [
    "A value of c=1000 is chosen to train the final model, as it yields the highest accuracies on the training data. "
   ]
  },
  {
   "cell_type": "markdown",
   "metadata": {},
   "source": [
    "# 4. Make predictions on data set"
   ]
  },
  {
   "cell_type": "code",
   "execution_count": 12,
   "metadata": {
    "ExecuteTime": {
     "end_time": "2020-08-05T11:12:06.528473Z",
     "start_time": "2020-08-05T10:36:08.467818Z"
    }
   },
   "outputs": [],
   "source": [
    "pi_final, mu_final, sigma_final = fit_generative_model(train_data, train_labels, 1000)\n",
    "accuracy_rate, predictions = predict(test_data, test_labels, pi_final, mu_final, sigma_final, 1000)"
   ]
  },
  {
   "cell_type": "code",
   "execution_count": 13,
   "metadata": {
    "ExecuteTime": {
     "end_time": "2020-08-05T11:40:18.813924Z",
     "start_time": "2020-08-05T11:40:18.806108Z"
    }
   },
   "outputs": [
    {
     "name": "stdout",
     "output_type": "stream",
     "text": [
      "Accuracy rate achieved on the test data: 0.949\n"
     ]
    }
   ],
   "source": [
    "print('Accuracy rate achieved on the test data: {}'.format(accuracy_rate))"
   ]
  },
  {
   "cell_type": "markdown",
   "metadata": {
    "slideshow": {
     "slide_type": "slide"
    }
   },
   "source": [
    "In order to understand where the strength and weaknesses of the model are a confusion matrix is calculated. "
   ]
  },
  {
   "cell_type": "code",
   "execution_count": 16,
   "metadata": {
    "ExecuteTime": {
     "end_time": "2020-08-05T12:50:08.438118Z",
     "start_time": "2020-08-05T12:50:08.409958Z"
    }
   },
   "outputs": [],
   "source": [
    "cm = metrics.confusion_matrix(test_labels, predictions)\n",
    "cm_normalized = cm.astype('float') / cm.sum(axis=1)[:, np.newaxis]"
   ]
  },
  {
   "cell_type": "code",
   "execution_count": 18,
   "metadata": {
    "ExecuteTime": {
     "end_time": "2020-08-05T12:54:19.872606Z",
     "start_time": "2020-08-05T12:54:18.795720Z"
    },
    "scrolled": false
   },
   "outputs": [
    {
     "data": {
      "image/png": "[encoded data removed]",
      "text/plain": [
       "<Figure size 648x648 with 2 Axes>"
      ]
     },
     "metadata": {},
     "output_type": "display_data"
    }
   ],
   "source": [
    "plt.figure(figsize=(9,9))\n",
    "plt.imshow(cm, interpolation='nearest', cmap='Pastel1')\n",
    "plt.title('Confusion matrix', size = 15)\n",
    "plt.colorbar()\n",
    "tick_marks = np.arange(10)\n",
    "plt.xticks(tick_marks, [\"0\", \"1\", \"2\", \"3\", \"4\", \"5\", \"6\", \"7\", \"8\", \"9\"], rotation=45, size = 10)\n",
    "plt.yticks(tick_marks, [\"0\", \"1\", \"2\", \"3\", \"4\", \"5\", \"6\", \"7\", \"8\", \"9\"], size = 10)\n",
    "plt.tight_layout()\n",
    "plt.ylabel('Actual label', size = 15)\n",
    "plt.xlabel('Predicted label', size = 15)\n",
    "width, height = cm.shape\n",
    "for x in range(width):\n",
    " for y in range(height):\n",
    "  plt.annotate(str(cm[x][y]), xy=(y, x), \n",
    "  horizontalalignment='center',\n",
    "  verticalalignment='center')"
   ]
  },
  {
   "cell_type": "code",
   "execution_count": 61,
   "metadata": {
    "ExecuteTime": {
     "end_time": "2020-08-05T13:50:25.134996Z",
     "start_time": "2020-08-05T13:50:25.110110Z"
    }
   },
   "outputs": [
    {
     "name": "stdout",
     "output_type": "stream",
     "text": [
      "prediction \tcount mistakes\n",
      "0 \t\t2\n",
      "1 \t\t2\n",
      "2 \t\t6\n",
      "3 \t\t6\n",
      "4 \t\t4\n",
      "5 \t\t5\n",
      "6 \t\t1\n",
      "7 \t\t5\n",
      "8 \t\t15\n",
      "9 \t\t5\n"
     ]
    }
   ],
   "source": [
    "dict_false_predictions = {}\n",
    "for i in range(10):\n",
    "    dict_false_predictions[i] = len(np.where((predictions == i) & (predictions != test_labels))[0])\n",
    "print('prediction \\tcount mistakes')\n",
    "[print('{} \\t\\t{}'.format(i, dict_false_predictions.get(i))) for i in list(dict_false_predictions.keys())];"
   ]
  },
  {
   "cell_type": "markdown",
   "metadata": {},
   "source": [
    "Most errors occur when the label '8' is predicted. Let's have a look at an example of a false '8' prediction:"
   ]
  },
  {
   "cell_type": "code",
   "execution_count": 53,
   "metadata": {
    "ExecuteTime": {
     "end_time": "2020-08-05T13:39:16.266240Z",
     "start_time": "2020-08-05T13:39:16.251418Z"
    }
   },
   "outputs": [
    {
     "data": {
      "text/plain": [
       "array([ 47,  60, 132, 137, 138, 300, 319, 338, 362, 425, 437, 717, 758,\n",
       "       835, 913])"
      ]
     },
     "execution_count": 53,
     "metadata": {},
     "output_type": "execute_result"
    }
   ],
   "source": [
    "indices_false_8 = np.where((predictions == 8) & (predictions != test_labels))[0]\n",
    "indices_false_8"
   ]
  },
  {
   "cell_type": "code",
   "execution_count": 51,
   "metadata": {
    "ExecuteTime": {
     "end_time": "2020-08-05T13:37:31.240238Z",
     "start_time": "2020-08-05T13:37:30.989606Z"
    }
   },
   "outputs": [
    {
     "data": {
      "image/png": "[encoded data removed]",
      "text/plain": [
       "<Figure size 432x288 with 1 Axes>"
      ]
     },
     "metadata": {},
     "output_type": "display_data"
    },
    {
     "name": "stdout",
     "output_type": "stream",
     "text": [
      "Label 2\n",
      "Predicted Label 8\n"
     ]
    }
   ],
   "source": [
    "vis_image(indices_false_8[0], \"test\", predictions[indices_false_8[0]])"
   ]
  },
  {
   "cell_type": "markdown",
   "metadata": {},
   "source": [
    "Let's have a look at a correctly predicted label '8'"
   ]
  },
  {
   "cell_type": "code",
   "execution_count": 64,
   "metadata": {
    "ExecuteTime": {
     "end_time": "2020-08-05T13:53:33.843658Z",
     "start_time": "2020-08-05T13:53:33.582225Z"
    },
    "scrolled": false
   },
   "outputs": [
    {
     "data": {
      "image/png": "[encoded data removed]",
      "text/plain": [
       "<Figure size 432x288 with 1 Axes>"
      ]
     },
     "metadata": {},
     "output_type": "display_data"
    },
    {
     "name": "stdout",
     "output_type": "stream",
     "text": [
      "Label 8\n",
      "Predicted Label 8\n"
     ]
    }
   ],
   "source": [
    "indices_correct_8 = np.where((predictions == 8) & (predictions == test_labels))[0]\n",
    "vis_image(indices_correct_8[0], 'test', predictions[indices_correct_8[0]])"
   ]
  },
  {
   "cell_type": "markdown",
   "metadata": {},
   "source": [
    "# 5. Conclusion\n",
    "\n",
    "The overall accuracy rate achieved with the generative model classifier on the MNIST dataset is **94.9%**. Thus the performance of this classifier is slightly poorer than the k-nearest-neighbor classifier from the other project, in which the classifier achieved an accuracy rate of **95.4%**.\n",
    "\n",
    "(project link: https://github.com/michaelstaden/projects/blob/master/k-Nearest_Neighbor_MNIST.ipynb)"
   ]
  },
  {
   "cell_type": "code",
   "execution_count": null,
   "metadata": {},
   "outputs": [],
   "source": []
  }
 ],
 "metadata": {
  "kernelspec": {
   "display_name": "Python 3",
   "language": "python",
   "name": "python3"
  },
  "language_info": {
   "codemirror_mode": {
    "name": "ipython",
    "version": 3
   },
   "file_extension": ".py",
   "mimetype": "text/x-python",
   "name": "python",
   "nbconvert_exporter": "python",
   "pygments_lexer": "ipython3",
   "version": "3.6.5"
  },
  "toc": {
   "base_numbering": 1,
   "nav_menu": {},
   "number_sections": false,
   "sideBar": true,
   "skip_h1_title": false,
   "title_cell": "Table of Contents",
   "title_sidebar": "Contents",
   "toc_cell": false,
   "toc_position": {},
   "toc_section_display": true,
   "toc_window_display": false
  },
  "varInspector": {
   "cols": {
    "lenName": 16,
    "lenType": 16,
    "lenVar": 40
   },
   "kernels_config": {
    "python": {
     "delete_cmd_postfix": "",
     "delete_cmd_prefix": "del ",
     "library": "var_list.py",
     "varRefreshCmd": "print(var_dic_list())"
    },
    "r": {
     "delete_cmd_postfix": ") ",
     "delete_cmd_prefix": "rm(",
     "library": "var_list.r",
     "varRefreshCmd": "cat(var_dic_list()) "
    }
   },
   "types_to_exclude": [
    "module",
    "function",
    "builtin_function_or_method",
    "instance",
    "_Feature"
   ],
   "window_display": false
  }
 },
 "nbformat": 4,
 "nbformat_minor": 2
}
