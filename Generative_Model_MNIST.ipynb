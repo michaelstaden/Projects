{
 "cells": [
  {
   "cell_type": "markdown",
   "metadata": {
    "ExecuteTime": {
     "end_time": "2020-08-03T14:31:09.239217Z",
     "start_time": "2020-08-03T14:31:09.229656Z"
    }
   },
   "source": [
    "# <center>+++ Project is currently in progress ;-) +++<center>"
   ]
  },
  {
   "cell_type": "markdown",
   "metadata": {},
   "source": [
    "# Generative Model classification for handwritten digits\n",
    "\n",
    "In this notebook I will build a **generative model classifier** to classify the handwritten digits from the MNIST dataset. The results will be compared with the k-Nearest-Neighbor classifier for the MNIST dataset from my other project. "
   ]
  },
  {
   "cell_type": "markdown",
   "metadata": {},
   "source": [
    "# 1. Set up the notebook and load the data"
   ]
  },
  {
   "cell_type": "markdown",
   "metadata": {},
   "source": [
    "Just like I did with the k-Nearest-Neighbour classifier for the MNIST dataset, I'll be working with a subset of the data. The complete dataset consists of 60,000 and 10,000 training and test images respectively. The subset contains 7,500 training images and 1,000 test images."
   ]
  },
  {
   "cell_type": "code",
   "execution_count": 1,
   "metadata": {
    "ExecuteTime": {
     "end_time": "2020-08-03T13:26:17.257371Z",
     "start_time": "2020-08-03T13:26:12.579656Z"
    }
   },
   "outputs": [],
   "source": [
    "%matplotlib inline\n",
    "import matplotlib.pyplot as plt\n",
    "import numpy as np\n",
    "from scipy.stats import multivariate_normal\n",
    "from sklearn.model_selection import train_test_split"
   ]
  },
  {
   "cell_type": "code",
   "execution_count": 2,
   "metadata": {
    "ExecuteTime": {
     "end_time": "2020-08-03T13:28:16.089739Z",
     "start_time": "2020-08-03T13:28:15.683397Z"
    }
   },
   "outputs": [],
   "source": [
    "# Load the training set\n",
    "train_data = np.load('MNIST/train_data.npy')\n",
    "train_labels = np.load('MNIST/train_labels.npy')\n",
    "\n",
    "# Load the testing set\n",
    "test_data = np.load('MNIST/test_data.npy')\n",
    "test_labels = np.load('MNIST/test_labels.npy')"
   ]
  },
  {
   "cell_type": "code",
   "execution_count": 7,
   "metadata": {
    "ExecuteTime": {
     "end_time": "2020-08-03T13:34:16.637154Z",
     "start_time": "2020-08-03T13:34:16.624995Z"
    }
   },
   "outputs": [
    {
     "name": "stdout",
     "output_type": "stream",
     "text": [
      "Training data set dimensions: (7500, 784)\n",
      "Number of training data labels: 7500\n",
      "Test data set dimensions: (1000, 784)\n",
      "Number of test data labels: 1000\n"
     ]
    }
   ],
   "source": [
    "# Print out the dimensions of the datasets\n",
    "print('Training data set dimensions: {}'.format(np.shape(train_data)))\n",
    "print('Number of training data labels: {}'.format(len(train_labels)))\n",
    "print('Test data set dimensions: {}'.format(np.shape(test_data)))\n",
    "print('Number of test data labels: {}'.format(len(test_labels)))"
   ]
  },
  {
   "cell_type": "markdown",
   "metadata": {},
   "source": [
    "Let's see whether within the training and test images each number is equally represented."
   ]
  },
  {
   "cell_type": "code",
   "execution_count": 20,
   "metadata": {
    "ExecuteTime": {
     "end_time": "2020-08-03T13:52:36.590953Z",
     "start_time": "2020-08-03T13:52:36.546584Z"
    }
   },
   "outputs": [
    {
     "name": "stdout",
     "output_type": "stream",
     "text": [
      "train digit \tcounts\n",
      "0 \t\t750\n",
      "1 \t\t750\n",
      "2 \t\t750\n",
      "3 \t\t750\n",
      "4 \t\t750\n",
      "5 \t\t750\n",
      "6 \t\t750\n",
      "7 \t\t750\n",
      "8 \t\t750\n",
      "9 \t\t750\n",
      "\n",
      "test digit \tcounts\n",
      "0 \t\t100\n",
      "1 \t\t100\n",
      "2 \t\t100\n",
      "3 \t\t100\n",
      "4 \t\t100\n",
      "5 \t\t100\n",
      "6 \t\t100\n",
      "7 \t\t100\n",
      "8 \t\t100\n",
      "9 \t\t100\n"
     ]
    }
   ],
   "source": [
    "train_digits, train_counts = np.unique(train_labels, return_counts=True)\n",
    "dict_train_distribution = dict(zip(train_digits, train_counts))\n",
    "print('train digit \\tcounts')\n",
    "[print('{} \\t\\t{}'.format(i, dict_train_distribution.get(i))) for i in list(train_digits)]\n",
    "\n",
    "test_digits, test_counts = np.unique(test_labels, return_counts=True)\n",
    "dict_test_distribution = dict(zip(test_digits, test_counts))\n",
    "print('\\ntest digit \\tcounts')\n",
    "[print('{} \\t\\t{}'.format(i, dict_test_distribution.get(i))) for i in list(test_digits)];"
   ]
  },
  {
   "cell_type": "markdown",
   "metadata": {},
   "source": [
    "# 2. Visualizing the data\n",
    "\n",
    "Each data point is stored as a 784-dimensional vector. To visualize a data point, let's first reshape it to a 28x28 image."
   ]
  },
  {
   "cell_type": "code",
   "execution_count": 21,
   "metadata": {
    "ExecuteTime": {
     "end_time": "2020-08-03T13:54:37.438346Z",
     "start_time": "2020-08-03T13:54:37.107409Z"
    }
   },
   "outputs": [
    {
     "data": {
      "image/png": "[encoded data removed]",
      "text/plain": [
       "<Figure size 432x288 with 1 Axes>"
      ]
     },
     "metadata": {},
     "output_type": "display_data"
    },
    {
     "name": "stdout",
     "output_type": "stream",
     "text": [
      "Label 9\n"
     ]
    },
    {
     "data": {
      "image/png": "[encoded data removed]",
      "text/plain": [
       "<Figure size 432x288 with 1 Axes>"
      ]
     },
     "metadata": {},
     "output_type": "display_data"
    },
    {
     "name": "stdout",
     "output_type": "stream",
     "text": [
      "Label 0\n"
     ]
    }
   ],
   "source": [
    "## Define a function that displays a digit given its vector representation\n",
    "def show_digit(x):\n",
    "    plt.axis('off')\n",
    "    plt.imshow(x.reshape((28,28)), cmap=plt.cm.gray)\n",
    "    plt.show()\n",
    "    return\n",
    "\n",
    "## Define a function that takes an index into a particular data set (\"train\" or \"test\") and displays that image.\n",
    "def vis_image(index, dataset=\"train\"):\n",
    "    if(dataset==\"train\"): \n",
    "        show_digit(train_data[index,])\n",
    "        label = train_labels[index]\n",
    "    else:\n",
    "        show_digit(test_data[index,])\n",
    "        label = test_labels[index]\n",
    "    print(\"Label \" + str(label))\n",
    "    return\n",
    "\n",
    "## View the first data point in the training set\n",
    "vis_image(0, \"train\")\n",
    "\n",
    "## Now view the first data point in the test set\n",
    "vis_image(0, \"test\")"
   ]
  },
  {
   "cell_type": "markdown",
   "metadata": {},
   "source": [
    "# 3. Fit a Gaussian generative model to the training data\n",
    "\n",
    "* pi[j] 10x1\n",
    "* mu[j] 10x784\n",
    "* sigma[j] 10x784x784"
   ]
  },
  {
   "cell_type": "code",
   "execution_count": 42,
   "metadata": {
    "ExecuteTime": {
     "end_time": "2020-08-03T14:28:22.729327Z",
     "start_time": "2020-08-03T14:28:22.684449Z"
    }
   },
   "outputs": [],
   "source": [
    "def fit_generative_model(x, y, c):\n",
    "    k = 3\n",
    "    d = (x.shape)[1]\n",
    "    pi = np.zeros(k)\n",
    "    mu = np.zeros((k, d))\n",
    "    sigma = np.zeros((k,d,d))\n",
    "    \n",
    "    for label in range(k):\n",
    "        indices = (y == label)\n",
    "        pi[label] = float(sum(indices)/len(y))\n",
    "        mu[label] = np.mean(x[indices], axis=0)\n",
    "    print('pi', pi)\n",
    "    print('mu', mu)\n",
    "    print('sigma', sigma)\n",
    "    return pi, mu, sigma"
   ]
  },
  {
   "cell_type": "code",
   "execution_count": 44,
   "metadata": {
    "ExecuteTime": {
     "end_time": "2020-08-03T14:29:15.952976Z",
     "start_time": "2020-08-03T14:29:15.929972Z"
    }
   },
   "outputs": [
    {
     "name": "stdout",
     "output_type": "stream",
     "text": [
      "(2, 3)\n",
      "(1, 3)\n",
      "(1, 3)\n",
      "pi [0.5  0.25 0.25]\n",
      "mu [[2. 3. 4.]\n",
      " [2. 4. 6.]\n",
      " [7. 8. 9.]]\n",
      "sigma [[[0. 0. 0.]\n",
      "  [0. 0. 0.]\n",
      "  [0. 0. 0.]]\n",
      "\n",
      " [[0. 0. 0.]\n",
      "  [0. 0. 0.]\n",
      "  [0. 0. 0.]]\n",
      "\n",
      " [[0. 0. 0.]\n",
      "  [0. 0. 0.]\n",
      "  [0. 0. 0.]]]\n"
     ]
    }
   ],
   "source": [
    "x = np.array([[1, 2, 3],[3, 4, 5],[2, 4, 6],[7, 8, 9]])\n",
    "y = np.array([0, 0, 1, 2])\n",
    "c = 1\n",
    "fit_generative_model(x, y, c);\n",
    "#print(pi, mu, sigma)"
   ]
  },
  {
   "cell_type": "code",
   "execution_count": 39,
   "metadata": {
    "ExecuteTime": {
     "end_time": "2020-08-03T14:25:20.343208Z",
     "start_time": "2020-08-03T14:25:20.334054Z"
    }
   },
   "outputs": [
    {
     "data": {
      "text/plain": [
       "(4,)"
      ]
     },
     "execution_count": 39,
     "metadata": {},
     "output_type": "execute_result"
    }
   ],
   "source": [
    "np.shape(y)"
   ]
  },
  {
   "cell_type": "code",
   "execution_count": null,
   "metadata": {},
   "outputs": [],
   "source": []
  }
 ],
 "metadata": {
  "kernelspec": {
   "display_name": "Python 3",
   "language": "python",
   "name": "python3"
  },
  "language_info": {
   "codemirror_mode": {
    "name": "ipython",
    "version": 3
   },
   "file_extension": ".py",
   "mimetype": "text/x-python",
   "name": "python",
   "nbconvert_exporter": "python",
   "pygments_lexer": "ipython3",
   "version": "3.6.5"
  },
  "toc": {
   "base_numbering": 1,
   "nav_menu": {},
   "number_sections": false,
   "sideBar": true,
   "skip_h1_title": false,
   "title_cell": "Table of Contents",
   "title_sidebar": "Contents",
   "toc_cell": false,
   "toc_position": {},
   "toc_section_display": true,
   "toc_window_display": false
  },
  "varInspector": {
   "cols": {
    "lenName": 16,
    "lenType": 16,
    "lenVar": 40
   },
   "kernels_config": {
    "python": {
     "delete_cmd_postfix": "",
     "delete_cmd_prefix": "del ",
     "library": "var_list.py",
     "varRefreshCmd": "print(var_dic_list())"
    },
    "r": {
     "delete_cmd_postfix": ") ",
     "delete_cmd_prefix": "rm(",
     "library": "var_list.r",
     "varRefreshCmd": "cat(var_dic_list()) "
    }
   },
   "types_to_exclude": [
    "module",
    "function",
    "builtin_function_or_method",
    "instance",
    "_Feature"
   ],
   "window_display": false
  }
 },
 "nbformat": 4,
 "nbformat_minor": 2
}
